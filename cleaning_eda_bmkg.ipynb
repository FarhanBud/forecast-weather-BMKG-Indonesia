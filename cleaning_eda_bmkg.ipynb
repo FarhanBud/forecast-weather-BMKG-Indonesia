{
 "cells": [
  {
   "cell_type": "code",
   "execution_count": 66,
   "id": "b22d69c9",
   "metadata": {},
   "outputs": [],
   "source": [
    "import pandas as pd\n",
    "import seaborn as sns\n",
    "import matplotlib.pyplot as plt"
   ]
  },
  {
   "cell_type": "code",
   "execution_count": 67,
   "id": "6c30c86d",
   "metadata": {},
   "outputs": [],
   "source": [
    "# Membaca file CSV\n",
    "df = pd.read_csv('bmkg_forecast_raw.csv')"
   ]
  },
  {
   "cell_type": "code",
   "execution_count": 68,
   "id": "880989f9",
   "metadata": {},
   "outputs": [
    {
     "name": "stdout",
     "output_type": "stream",
     "text": [
      "== Info Data Awal ==\n",
      "<class 'pandas.core.frame.DataFrame'>\n",
      "RangeIndex: 95 entries, 0 to 94\n",
      "Data columns (total 12 columns):\n",
      " #   Column           Non-Null Count  Dtype  \n",
      "---  ------           --------------  -----  \n",
      " 0   kota             95 non-null     object \n",
      " 1   utc_datetime     95 non-null     object \n",
      " 2   local_datetime   95 non-null     object \n",
      " 3   t                95 non-null     int64  \n",
      " 4   hu               95 non-null     int64  \n",
      " 5   weather_desc     95 non-null     object \n",
      " 6   weather_desc_en  95 non-null     object \n",
      " 7   ws               95 non-null     float64\n",
      " 8   wd               95 non-null     object \n",
      " 9   tcc              95 non-null     int64  \n",
      " 10  vs_text          95 non-null     object \n",
      " 11  analysis_date    95 non-null     object \n",
      "dtypes: float64(1), int64(3), object(8)\n",
      "memory usage: 9.0+ KB\n",
      "None\n"
     ]
    }
   ],
   "source": [
    "# Melihat info awal data\n",
    "print(\"== Info Data Awal ==\")\n",
    "print(df.info())"
   ]
  },
  {
   "cell_type": "markdown",
   "id": "787a17ff",
   "metadata": {},
   "source": [
    "Menunjukkan struktur dataset yang terdiri dari 95 baris dan 12 kolom dengan tipe data yang benar (string, numerik, datetime). Semua kolom tampak lengkap tanpa nilai kosong yang terdeteksi"
   ]
  },
  {
   "cell_type": "code",
   "execution_count": 69,
   "id": "30ab6d84",
   "metadata": {},
   "outputs": [
    {
     "name": "stdout",
     "output_type": "stream",
     "text": [
      "\n",
      "== Jumlah Missing Value Sebelum Cleaning ==\n",
      "kota               0\n",
      "utc_datetime       0\n",
      "local_datetime     0\n",
      "t                  0\n",
      "hu                 0\n",
      "weather_desc       0\n",
      "weather_desc_en    0\n",
      "ws                 0\n",
      "wd                 0\n",
      "tcc                0\n",
      "vs_text            0\n",
      "analysis_date      0\n",
      "dtype: int64\n"
     ]
    }
   ],
   "source": [
    "# Cek jumlah missing value sebelum cleaning\n",
    "print(\"\\n== Jumlah Missing Value Sebelum Cleaning ==\")\n",
    "print(df.isna().sum())"
   ]
  },
  {
   "cell_type": "markdown",
   "id": "8fc27394",
   "metadata": {},
   "source": [
    "Mengonfirmasi tidak ada missing value (semua bernilai 0), yang berarti dataset sudah lengkap dan tidak memerlukan pengisian nilai kosong."
   ]
  },
  {
   "cell_type": "code",
   "execution_count": 70,
   "id": "0c76bec1",
   "metadata": {},
   "outputs": [],
   "source": [
    "# Konversi kolom waktu ke datetime\n",
    "df['utc_datetime'] = pd.to_datetime(df['utc_datetime'])\n",
    "df['local_datetime'] = pd.to_datetime(df['local_datetime'])"
   ]
  },
  {
   "cell_type": "markdown",
   "id": "ee3d3fe0",
   "metadata": {},
   "source": [
    "Mengonversi kolom tanggal dan waktu dari string menjadi tipe datetime supaya mudah dipakai untuk analisis waktu."
   ]
  },
  {
   "cell_type": "code",
   "execution_count": 71,
   "id": "15871232",
   "metadata": {},
   "outputs": [
    {
     "name": "stdout",
     "output_type": "stream",
     "text": [
      "\n",
      "== Statistik Deskriptif Data ==\n",
      "           kota         utc_datetime                 local_datetime  \\\n",
      "count        95                   95                             95   \n",
      "unique        5                  NaN                            NaN   \n",
      "top     Jakarta                  NaN                            NaN   \n",
      "freq         19                  NaN                            NaN   \n",
      "mean        NaN  2025-10-22 11:00:00  2025-10-22 18:00:00.000000256   \n",
      "min         NaN  2025-10-21 08:00:00            2025-10-21 15:00:00   \n",
      "25%         NaN  2025-10-21 20:00:00            2025-10-22 03:00:00   \n",
      "50%         NaN  2025-10-22 11:00:00            2025-10-22 18:00:00   \n",
      "75%         NaN  2025-10-23 02:00:00            2025-10-23 09:00:00   \n",
      "max         NaN  2025-10-23 14:00:00            2025-10-23 21:00:00   \n",
      "std         NaN                  NaN                            NaN   \n",
      "\n",
      "                t         hu weather_desc weather_desc_en         ws   wd  \\\n",
      "count   95.000000  95.000000           95              95  95.000000   95   \n",
      "unique        NaN        NaN            6               6        NaN    8   \n",
      "top           NaN        NaN      Berawan   Mostly Cloudy        NaN   SE   \n",
      "freq          NaN        NaN           57              57        NaN   18   \n",
      "mean    25.694737  85.147368          NaN             NaN   4.269474  NaN   \n",
      "min     20.000000  60.000000          NaN             NaN   0.500000  NaN   \n",
      "25%     23.000000  79.500000          NaN             NaN   1.750000  NaN   \n",
      "50%     26.000000  88.000000          NaN             NaN   3.200000  NaN   \n",
      "75%     28.000000  92.000000          NaN             NaN   6.000000  NaN   \n",
      "max     34.000000  98.000000          NaN             NaN  13.000000  NaN   \n",
      "std      3.271650   9.776185          NaN             NaN   3.338527  NaN   \n",
      "\n",
      "               tcc  vs_text        analysis_date  \n",
      "count    95.000000       95                   95  \n",
      "unique         NaN        6                    1  \n",
      "top            NaN  > 10 km  2025-10-21T00:00:00  \n",
      "freq           NaN       53                   95  \n",
      "mean     98.757895      NaN                  NaN  \n",
      "min      75.000000      NaN                  NaN  \n",
      "25%     100.000000      NaN                  NaN  \n",
      "50%     100.000000      NaN                  NaN  \n",
      "75%     100.000000      NaN                  NaN  \n",
      "max     100.000000      NaN                  NaN  \n",
      "std       3.888652      NaN                  NaN  \n"
     ]
    }
   ],
   "source": [
    "# EDA statistik deskriptif\n",
    "print(\"\\n== Statistik Deskriptif Data ==\")\n",
    "print(df.describe(include='all'))"
   ]
  },
  {
   "cell_type": "markdown",
   "id": "d0bb8c49",
   "metadata": {},
   "source": [
    "* Jumlah data valid, frekuensi kategori, dan kategori yang paling sering muncul pada kolom teks.\n",
    "\n",
    "* Rata-rata, min, max, dan standar deviasi untuk kolom numerik seperti suhu dan kelembapan yang memberikan gambaran sebaran nilai.\n",
    "\n",
    "* Informasi waktu minimal dan maksimal memberikan rentang periode data prakiraan selama 3 hari."
   ]
  },
  {
   "cell_type": "code",
   "execution_count": 72,
   "id": "83826e34",
   "metadata": {},
   "outputs": [
    {
     "name": "stdout",
     "output_type": "stream",
     "text": [
      "\n",
      "== Jumlah Duplikat ==\n",
      "0\n"
     ]
    }
   ],
   "source": [
    "# Cek ada berapa duplikat\n",
    "print(\"\\n== Jumlah Duplikat ==\")\n",
    "print(df.duplicated().sum())\n"
   ]
  },
  {
   "cell_type": "markdown",
   "id": "b7ef8db4",
   "metadata": {},
   "source": [
    "Nilai 0 berarti tidak ada data yang duplikat, sehingga dataset bebas dari pengulangan baris yang bisa mengganggu analisis."
   ]
  },
  {
   "cell_type": "code",
   "execution_count": 73,
   "id": "f4ce856e",
   "metadata": {},
   "outputs": [
    {
     "name": "stdout",
     "output_type": "stream",
     "text": [
      "\n",
      "== Tipe Data Per Kolom ==\n",
      "kota                       object\n",
      "utc_datetime       datetime64[ns]\n",
      "local_datetime     datetime64[ns]\n",
      "t                           int64\n",
      "hu                          int64\n",
      "weather_desc               object\n",
      "weather_desc_en            object\n",
      "ws                        float64\n",
      "wd                         object\n",
      "tcc                         int64\n",
      "vs_text                    object\n",
      "analysis_date              object\n",
      "dtype: object\n"
     ]
    }
   ],
   "source": [
    "# Cek tipe data tiap kolom\n",
    "print(\"\\n== Tipe Data Per Kolom ==\")\n",
    "print(df.dtypes)"
   ]
  },
  {
   "cell_type": "code",
   "execution_count": 74,
   "id": "0ad62ed6",
   "metadata": {},
   "outputs": [
    {
     "name": "stdout",
     "output_type": "stream",
     "text": [
      "\n",
      "Unique value counts di kolom 'kota':\n",
      "kota\n",
      "Jakarta      19\n",
      "Tangerang    19\n",
      "Depok        19\n",
      "Bogor        19\n",
      "Bandung      19\n",
      "Name: count, dtype: int64\n",
      "\n",
      "Unique value counts di kolom 'weather_desc':\n",
      "weather_desc\n",
      "Berawan          57\n",
      "Hujan Ringan     26\n",
      "Hujan Petir       5\n",
      "Hujan Sedang      3\n",
      "Petir             3\n",
      "Cerah Berawan     1\n",
      "Name: count, dtype: int64\n",
      "\n",
      "Unique value counts di kolom 'weather_desc_en':\n",
      "weather_desc_en\n",
      "Mostly Cloudy    57\n",
      "Light Rain       26\n",
      "Thunderstorm      5\n",
      "Moderate Rain     3\n",
      "Thunder           3\n",
      "Partly Cloudy     1\n",
      "Name: count, dtype: int64\n",
      "\n",
      "Unique value counts di kolom 'wd':\n",
      "wd\n",
      "SE    18\n",
      "NE    16\n",
      "SW    16\n",
      "S     14\n",
      "NW    12\n",
      "N      9\n",
      "E      7\n",
      "W      3\n",
      "Name: count, dtype: int64\n",
      "\n",
      "Unique value counts di kolom 'vs_text':\n",
      "vs_text\n",
      "> 10 km    53\n",
      "< 10 km    25\n",
      "< 7 km      8\n",
      "< 9 km      3\n",
      "< 6 km      3\n",
      "< 8 km      3\n",
      "Name: count, dtype: int64\n",
      "\n",
      "Unique value counts di kolom 'analysis_date':\n",
      "analysis_date\n",
      "2025-10-21T00:00:00    95\n",
      "Name: count, dtype: int64\n"
     ]
    }
   ],
   "source": [
    "# Cek nilai unik di kolom kategori\n",
    "for col in df.select_dtypes(include='object').columns:\n",
    "    print(f\"\\nUnique value counts di kolom '{col}':\")\n",
    "    print(df[col].value_counts())"
   ]
  },
  {
   "cell_type": "code",
   "execution_count": 75,
   "id": "85f42adb",
   "metadata": {},
   "outputs": [
    {
     "name": "stdout",
     "output_type": "stream",
     "text": [
      "\n",
      "== Statistik Numerik ==\n"
     ]
    },
    {
     "name": "stdout",
     "output_type": "stream",
     "text": [
      "              utc_datetime                 local_datetime          t  \\\n",
      "count                   95                             95  95.000000   \n",
      "mean   2025-10-22 11:00:00  2025-10-22 18:00:00.000000256  25.694737   \n",
      "min    2025-10-21 08:00:00            2025-10-21 15:00:00  20.000000   \n",
      "25%    2025-10-21 20:00:00            2025-10-22 03:00:00  23.000000   \n",
      "50%    2025-10-22 11:00:00            2025-10-22 18:00:00  26.000000   \n",
      "75%    2025-10-23 02:00:00            2025-10-23 09:00:00  28.000000   \n",
      "max    2025-10-23 14:00:00            2025-10-23 21:00:00  34.000000   \n",
      "std                    NaN                            NaN   3.271650   \n",
      "\n",
      "              hu         ws         tcc  \n",
      "count  95.000000  95.000000   95.000000  \n",
      "mean   85.147368   4.269474   98.757895  \n",
      "min    60.000000   0.500000   75.000000  \n",
      "25%    79.500000   1.750000  100.000000  \n",
      "50%    88.000000   3.200000  100.000000  \n",
      "75%    92.000000   6.000000  100.000000  \n",
      "max    98.000000  13.000000  100.000000  \n",
      "std     9.776185   3.338527    3.888652  \n"
     ]
    }
   ],
   "source": [
    "# Statistik numerik untuk cek outlier\n",
    "print(\"\\n== Statistik Numerik ==\")\n",
    "print(df.describe())"
   ]
  },
  {
   "cell_type": "code",
   "execution_count": 76,
   "id": "870fa29e",
   "metadata": {},
   "outputs": [
    {
     "data": {
      "image/png": "[encoded data removed]",
      "text/plain": [
       "<Figure size 640x480 with 1 Axes>"
      ]
     },
     "metadata": {},
     "output_type": "display_data"
    },
    {
     "data": {
      "image/png": "[encoded data removed]",
      "text/plain": [
       "<Figure size 640x480 with 1 Axes>"
      ]
     },
     "metadata": {},
     "output_type": "display_data"
    },
    {
     "data": {
      "image/png": "[encoded data removed]",
      "text/plain": [
       "<Figure size 640x480 with 1 Axes>"
      ]
     },
     "metadata": {},
     "output_type": "display_data"
    },
    {
     "data": {
      "image/png": "[encoded data removed]",
      "text/plain": [
       "<Figure size 640x480 with 1 Axes>"
      ]
     },
     "metadata": {},
     "output_type": "display_data"
    }
   ],
   "source": [
    "# Visualisasi Boxplot outlier tiap kolom numerik\n",
    "num_cols = df.select_dtypes(include=['float64', 'int64']).columns\n",
    "for col in num_cols:\n",
    "    sns.boxplot(x=df[col])\n",
    "    plt.title(f'Boxplot untuk {col}')\n",
    "    plt.show()"
   ]
  },
  {
   "cell_type": "code",
   "execution_count": 77,
   "id": "18966dfe",
   "metadata": {},
   "outputs": [
    {
     "name": "stdout",
     "output_type": "stream",
     "text": [
      "\n",
      "== Preview Data Bersih ==\n",
      "      kota        utc_datetime      local_datetime   t  hu  weather_desc  \\\n",
      "0  Jakarta 2025-10-21 08:00:00 2025-10-21 15:00:00  29  71  Hujan Ringan   \n",
      "1  Jakarta 2025-10-21 11:00:00 2025-10-21 18:00:00  27  84       Berawan   \n",
      "2  Jakarta 2025-10-21 14:00:00 2025-10-21 21:00:00  27  86       Berawan   \n",
      "3  Jakarta 2025-10-21 17:00:00 2025-10-22 00:00:00  26  90       Berawan   \n",
      "4  Jakarta 2025-10-21 20:00:00 2025-10-22 03:00:00  26  92       Berawan   \n",
      "\n",
      "  weather_desc_en   ws  wd  tcc  vs_text        analysis_date  \n",
      "0      Light Rain  4.0   S   84  > 10 km  2025-10-21T00:00:00  \n",
      "1   Mostly Cloudy  0.9  SE   99   < 9 km  2025-10-21T00:00:00  \n",
      "2   Mostly Cloudy  5.0  NE  100  > 10 km  2025-10-21T00:00:00  \n",
      "3   Mostly Cloudy  2.1  SE  100  > 10 km  2025-10-21T00:00:00  \n",
      "4   Mostly Cloudy  1.9  NE  100  > 10 km  2025-10-21T00:00:00  \n"
     ]
    }
   ],
   "source": [
    "# Lihat 5 baris pertama data yang sudah dibersihkan\n",
    "print(\"\\n== Preview Data Bersih ==\")\n",
    "print(df.head())"
   ]
  },
  {
   "cell_type": "code",
   "execution_count": 78,
   "id": "9b1e08fd",
   "metadata": {},
   "outputs": [
    {
     "name": "stdout",
     "output_type": "stream",
     "text": [
      "\n",
      "Data sudah dibersihkan dan disimpan sebagai bmkg_forecast_clean.csv\n"
     ]
    }
   ],
   "source": [
    "# Simpan data yang sudah bersih ke file CSV baru\n",
    "df.to_csv('bmkg_forecast_clean.csv', index=False)\n",
    "\n",
    "print(\"\\nData sudah dibersihkan dan disimpan sebagai bmkg_forecast_clean.csv\")"
   ]
  },
  {
   "cell_type": "markdown",
   "id": "d7ab1540",
   "metadata": {},
   "source": [
    "* Dataset sudah lengkap tanpa missing value sehingga data siap untuk dianalisis tanpa pengisian nilai kosong.\n",
    "\n",
    "* Data tidak mengandung duplikasi baris yang dapat mengganggu hasil analisis.\n",
    "\n",
    "* Tipe data sudah sesuai dengan kolomnya, termasuk konversi ke tipe datetime untuk analisis waktu.\n",
    "\n",
    "* Distribusi kategori di kolom teks (seperti kota, deskripsi cuaca, arah angin) sudah teridentifikasi dengan jelas dan seimbang.\n",
    "\n",
    "* Tidak ditemukan outlier ekstrim secara visual di kolom numerik berdasarkan boxplot.\n",
    "\n",
    "* Data sudah bersih, konsisten, dan valid sehingga layak untuk tahap analisis lanjutan atau visualisasi."
   ]
  }
 ],
 "metadata": {
  "kernelspec": {
   "display_name": "jcdsbsdam29",
   "language": "python",
   "name": "python3"
  },
  "language_info": {
   "codemirror_mode": {
    "name": "ipython",
    "version": 3
   },
   "file_extension": ".py",
   "mimetype": "text/x-python",
   "name": "python",
   "nbconvert_exporter": "python",
   "pygments_lexer": "ipython3",
   "version": "3.13.5"
  }
 },
 "nbformat": 4,
 "nbformat_minor": 5
}
